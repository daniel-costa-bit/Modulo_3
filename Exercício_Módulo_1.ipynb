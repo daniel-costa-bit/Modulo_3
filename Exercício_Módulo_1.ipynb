{
  "nbformat": 4,
  "nbformat_minor": 0,
  "metadata": {
    "colab": {
      "provenance": []
    },
    "kernelspec": {
      "name": "python3",
      "display_name": "Python 3"
    },
    "language_info": {
      "name": "python"
    }
  },
  "cells": [
    {
      "cell_type": "code",
      "execution_count": 8,
      "metadata": {
        "colab": {
          "base_uri": "https://localhost:8080/"
        },
        "id": "lEZYb1n5KQlH",
        "outputId": "e4ab5bc1-dbf7-479c-fae0-a6a3d8277dcc"
      },
      "outputs": [
        {
          "output_type": "stream",
          "name": "stdout",
          "text": [
            "Insira o primeiro número: 100\n",
            "Insira o segundo número: 5\n",
            "O que deseja fazer com esses dois números?\n",
            "1- Somar.\n",
            "2- Subtrair.\n",
            "3- Multiplicar.\n",
            "4- Dividir\n",
            "Escolha uma opção: 5\n",
            "Opção inválida, tente de novo.\n"
          ]
        }
      ],
      "source": [
        "first_num=int(input(\"Insira o primeiro número: \"))\n",
        "second_num=int(input(\"Insira o segundo número: \"))\n",
        "print(\"O que deseja fazer com esses dois números?\")\n",
        "print(\"1- Somar.\\n2- Subtrair.\\n3- Multiplicar.\\n4- Dividir\")\n",
        "escolha=int(input(\"Escolha uma opção: \"))\n",
        "if escolha==1:\n",
        "  print(\"O resultado é:\", (first_num+second_num))\n",
        "elif escolha==2:\n",
        "  print(\"O resultado é:\", (first_num-second_num))\n",
        "elif escolha==3:\n",
        "  print(\"O resultado é:\", (first_num*second_num))\n",
        "elif escolha==4:\n",
        "  print(\"O resultado é:\", (first_num/second_num))\n",
        "else:\n",
        "  print(\"Opção inválida, tente de novo.\")"
      ]
    }
  ]
}